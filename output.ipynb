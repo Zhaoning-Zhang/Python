{
 "cells": [
  {
   "cell_type": "code",
   "execution_count": 4,
   "metadata": {},
   "outputs": [],
   "source": [
    "import pandas as pd\n",
    "import matplotlib.pyplot as plt\n",
    "from scipy.stats import zscore\n",
    "import numpy as np\n",
    "from sklearn.linear_model import LinearRegression\n",
    "import statsmodels.api as sm"
   ]
  },
  {
   "cell_type": "code",
   "execution_count": 2,
   "metadata": {},
   "outputs": [],
   "source": [
    "news_data = pd.read_excel('news_data.xlsx', skiprows = [0,1,2,4], header = [0,1],index_col = 0, parse_dates= True)"
   ]
  },
  {
   "cell_type": "code",
   "execution_count": 3,
   "metadata": {},
   "outputs": [],
   "source": [
    "all_prices = pd.read_excel('price.xlsx', index_col=0, header = 0, parse_dates=True)"
   ]
  },
  {
   "cell_type": "code",
   "execution_count": 7,
   "metadata": {},
   "outputs": [],
   "source": [
    "NEWS_PUBLICATION_COUNT = news_data.loc[:,(slice(None),\"NEWS_PUBLICATION_COUNT\")]\n",
    "NEWS_PUBLICATION_COUNT.columns = news_data.columns.get_level_values(0)[0:505]\n",
    "\n",
    "NEWS_NEG_SENTIMENT_COUNT = news_data.loc[:,(slice(None),\"NEWS_NEG_SENTIMENT_COUNT\")]\n",
    "NEWS_NEG_SENTIMENT_COUNT.columns = news_data.columns.get_level_values(0)[0:505]\n",
    "\n",
    "NEWS_POS_SENTIMENT_COUNT = news_data.loc[:,(slice(None),\"NEWS_POS_SENTIMENT_COUNT\")]\n",
    "NEWS_POS_SENTIMENT_COUNT.columns = news_data.columns.get_level_values(0)[0:505]\n",
    "\n",
    "m = NEWS_POS_SENTIMENT_COUNT\n",
    "n = NEWS_NEG_SENTIMENT_COUNT\n",
    "mean = (m-n)/(m+n)\n",
    "dispersion = (m*np.power(1-mean,2)+n*np.power(-1-mean,2))/(m+n)"
   ]
  },
  {
   "cell_type": "code",
   "execution_count": 212,
   "metadata": {},
   "outputs": [],
   "source": [
    "log_return = np.log(all_prices/all_prices.shift(1))\n",
    "_return = (all_prices-all_prices.shift(1))/all_prices.shift(1)\n",
    "return_return = (_return-_return.shift(1))/_return.shift(1)\n",
    "log_return_lag_1 = log_return.shift(1)\n",
    "log_return_lag_2 = log_return.shift(2)\n",
    "log_return_lag_3 = log_return.shift(3)\n",
    "log_return_lag_4 = log_return.shift(3)\n",
    "log_return_lag_5 = log_return.shift(3)\n",
    "\n"
   ]
  },
  {
   "cell_type": "code",
   "execution_count": 99,
   "metadata": {},
   "outputs": [],
   "source": [
    "def regre_1():\n",
    "    list_ = []\n",
    "    \n",
    "    regression_data_2 = pd.DataFrame()\n",
    "    regression_data_2['log_return'] = np.array(log_return.melt().value)\n",
    "\n",
    "    regression_data_2['log_return_lag_1'] = np.array(log_return_lag_1.melt().value)\n",
    "    regression_data_2['log_return_lag_2'] = np.array(log_return_lag_2.melt().value)\n",
    "    regression_data_2['log_return_lag_3'] = np.array(log_return_lag_3.melt().value)\n",
    "\n",
    "    regression_data_2['NEWS_PUBLICATION_COUNT'] = news_data.loc[:,(slice(None),\"NEWS_PUBLICATION_COUNT\")].apply(zscore).shift(-1).melt().value\n",
    "    regression_data_2['NEWS_HEAT_READ_DAVG'] = news_data.loc[:,(slice(None),\"NEWS_HEAT_READ_DAVG\")].apply(zscore).shift(-1).melt().value\n",
    "    regression_data_2['NEWS_HEAT_READ_DMAX'] = news_data.loc[:,(slice(None),\"NEWS_HEAT_READ_DMAX\")].apply(zscore).shift(-1).melt().value\n",
    "\n",
    "    regression_data_2['NEWS_NEG_SENTIMENT_COUNT'] = NEWS_NEG_SENTIMENT_COUNT.apply(zscore).shift(-1).melt().value\n",
    "    regression_data_2['NEWS_POS_SENTIMENT_COUNT'] = NEWS_POS_SENTIMENT_COUNT.apply(zscore).shift(-1).melt().value\n",
    "\n",
    "    regression_data_2['NEWS_DISPERSION'] = dispersion.melt().shift(-1).value\n",
    "    regression_data_2 = regression_data_2.dropna()\n",
    "\n",
    "    X = regression_data_2.iloc[:,1:]\n",
    "    y = regression_data_2.iloc[:,0]\n",
    "\n",
    "\n",
    "    X2 = sm.add_constant(X)\n",
    "    est = sm.OLS(y, X2)\n",
    "    est2 = est.fit()\n",
    "    print(est2.summary())\n",
    "\n",
    "    print(est2.rsquared)"
   ]
  },
  {
   "cell_type": "markdown",
   "metadata": {},
   "source": [
    "# table 1 in page 1"
   ]
  },
  {
   "cell_type": "code",
   "execution_count": 15,
   "metadata": {},
   "outputs": [
    {
     "name": "stdout",
     "output_type": "stream",
     "text": [
      "                            OLS Regression Results                            \n",
      "==============================================================================\n",
      "Dep. Variable:             log_return   R-squared:                       0.014\n",
      "Model:                            OLS   Adj. R-squared:                  0.014\n",
      "Method:                 Least Squares   F-statistic:                     181.2\n",
      "Date:                Thu, 18 Apr 2019   Prob (F-statistic):               0.00\n",
      "Time:                        14:41:59   Log-Likelihood:             2.9205e+05\n",
      "No. Observations:              112118   AIC:                        -5.841e+05\n",
      "Df Residuals:                  112108   BIC:                        -5.840e+05\n",
      "Df Model:                           9                                         \n",
      "Covariance Type:            nonrobust                                         \n",
      "============================================================================================\n",
      "                               coef    std err          t      P>|t|      [0.025      0.975]\n",
      "--------------------------------------------------------------------------------------------\n",
      "const                        0.0042      0.000     16.166      0.000       0.004       0.005\n",
      "log_return_lag_1             0.0093      0.003      3.134      0.002       0.003       0.015\n",
      "log_return_lag_2             0.0136      0.003      4.575      0.000       0.008       0.019\n",
      "log_return_lag_3             0.0101      0.003      3.407      0.001       0.004       0.016\n",
      "NEWS_PUBLICATION_COUNT      -0.0003   7.62e-05     -4.394      0.000      -0.000      -0.000\n",
      "NEWS_HEAT_READ_DAVG         -0.0004   6.55e-05     -6.263      0.000      -0.001      -0.000\n",
      "NEWS_HEAT_READ_DMAX         -0.0002   6.17e-05     -3.693      0.000      -0.000      -0.000\n",
      "NEWS_NEG_SENTIMENT_COUNT    -0.0018   5.62e-05    -31.778      0.000      -0.002      -0.002\n",
      "NEWS_POS_SENTIMENT_COUNT     0.0007   8.13e-05      8.115      0.000       0.001       0.001\n",
      "NEWS_DISPERSION             -0.0049      0.000    -15.983      0.000      -0.005      -0.004\n",
      "==============================================================================\n",
      "Omnibus:                    40767.061   Durbin-Watson:                   2.003\n",
      "Prob(Omnibus):                  0.000   Jarque-Bera (JB):          3413968.786\n",
      "Skew:                          -0.846   Prob(JB):                         0.00\n",
      "Kurtosis:                      29.980   Cond. No.                         86.7\n",
      "==============================================================================\n",
      "\n",
      "Warnings:\n",
      "[1] Standard Errors assume that the covariance matrix of the errors is correctly specified.\n",
      "0.014334896815390685\n"
     ]
    }
   ],
   "source": [
    "regre_1()"
   ]
  },
  {
   "cell_type": "code",
   "execution_count": 16,
   "metadata": {},
   "outputs": [],
   "source": [
    "R_sq_all = 0.014334896815390685"
   ]
  },
  {
   "cell_type": "code",
   "execution_count": 42,
   "metadata": {},
   "outputs": [],
   "source": [
    "def regre_2():\n",
    "    regression_data_2 = pd.DataFrame()\n",
    "    regression_data_2['log_return'] = np.array(log_return.melt().value)\n",
    "\n",
    "    regression_data_2['log_return_lag_1'] = np.array(log_return_lag_1.melt().value)\n",
    "    regression_data_2['log_return_lag_2'] = np.array(log_return_lag_2.melt().value)\n",
    "    regression_data_2['log_return_lag_3'] = np.array(log_return_lag_3.melt().value)\n",
    "\n",
    "    regression_data_2['NEWS_PUBLICATION_COUNT'] = news_data.loc[:,(slice(None),\"NEWS_PUBLICATION_COUNT\")].apply(zscore).shift(-1).melt().value\n",
    "    regression_data_2['NEWS_HEAT_READ_DAVG'] = news_data.loc[:,(slice(None),\"NEWS_HEAT_READ_DAVG\")].apply(zscore).shift(-1).melt().value\n",
    "    regression_data_2['NEWS_HEAT_READ_DMAX'] = news_data.loc[:,(slice(None),\"NEWS_HEAT_READ_DMAX\")].apply(zscore).shift(-1).melt().value\n",
    "\n",
    "    regression_data_2['NEWS_NEG_SENTIMENT_COUNT'] = NEWS_NEG_SENTIMENT_COUNT.apply(zscore).shift(-1).melt().value\n",
    "    regression_data_2['NEWS_POS_SENTIMENT_COUNT'] = NEWS_POS_SENTIMENT_COUNT.apply(zscore).shift(-1).melt().value\n",
    "\n",
    "    regression_data_2['NEWS_DISPERSION'] = dispersion.melt().shift(-1).value\n",
    "    regression_data_2 = regression_data_2.dropna()\n",
    "    \n",
    "    for i in range(0,6):\n",
    "        regression_data_3 = regression_data_2.drop(regression_data_2.columns[i+4], axis=1)\n",
    "        X = regression_data_3.iloc[:,1:]\n",
    "        y = regression_data_3.iloc[:,0]\n",
    "        X2 = sm.add_constant(X)\n",
    "        est = sm.OLS(y, X2)\n",
    "        est2 = est.fit()\n",
    "#         print(est2.summary())\n",
    "        print(\"delta_r_squared: \", regression_data_2.columns[i+4] ,R_sq_all-est2.rsquared)"
   ]
  },
  {
   "cell_type": "markdown",
   "metadata": {},
   "source": [
    "# table 2 in page 1\n",
    "Sort by delta R^2 and tell that NEWS_NEG_SENTIMENT_COUNT seems to be the most important factor"
   ]
  },
  {
   "cell_type": "code",
   "execution_count": 43,
   "metadata": {},
   "outputs": [
    {
     "name": "stdout",
     "output_type": "stream",
     "text": [
      "delta_r_squared:  NEWS_PUBLICATION_COUNT 0.00016978412259627262\n",
      "delta_r_squared:  NEWS_HEAT_READ_DAVG 0.00034481988592049984\n",
      "delta_r_squared:  NEWS_HEAT_READ_DMAX 0.00011991283151546739\n",
      "delta_r_squared:  NEWS_NEG_SENTIMENT_COUNT 0.008878690386827093\n",
      "delta_r_squared:  NEWS_POS_SENTIMENT_COUNT 0.0005789754354941223\n",
      "delta_r_squared:  NEWS_DISPERSION 0.0022460509006357876\n"
     ]
    }
   ],
   "source": [
    "regre_2()"
   ]
  },
  {
   "cell_type": "code",
   "execution_count": 44,
   "metadata": {},
   "outputs": [],
   "source": [
    "def over_reaction_factor(lag):\n",
    "    over_reaction_factor = log_return\n",
    "    \n",
    "    for i in range(1,lag+1):\n",
    "        over_reaction_factor = over_reaction_factor+over_reaction_factor.shift(i)\n",
    "    \n",
    "    NEG_0_1_signal = NEWS_NEG_SENTIMENT_COUNT.fillna(0).apply(zscore)\n",
    "    NEG_0_1_signal[NEG_0_1_signal<0.5] = 0\n",
    "    NEG_0_1_signal[NEG_0_1_signal>0.5] = 1\n",
    "    NEG_0_1_signal = NEG_0_1_signal.shift(lag-1)\n",
    "    \n",
    "    NEG_0_1_signal[(NEG_0_1_signal==1) & (over_reaction_factor < 0)] = 1    \n",
    "    \n",
    "    return NEG_0_1_signal"
   ]
  },
  {
   "cell_type": "code",
   "execution_count": 45,
   "metadata": {},
   "outputs": [],
   "source": [
    "bad_news_agent = over_reaction_factor(1)"
   ]
  },
  {
   "cell_type": "markdown",
   "metadata": {},
   "source": [
    "# figure 1 in page 2"
   ]
  },
  {
   "cell_type": "code",
   "execution_count": 48,
   "metadata": {},
   "outputs": [
    {
     "data": {
      "text/plain": [
       "<matplotlib.axes._subplots.AxesSubplot at 0x1a1f15cf60>"
      ]
     },
     "execution_count": 48,
     "metadata": {},
     "output_type": "execute_result"
    },
    {
     "data": {
      "image/png": "[encoded data removed]",
      "text/plain": [
       "<Figure size 432x288 with 1 Axes>"
      ]
     },
     "metadata": {
      "needs_background": "light"
     },
     "output_type": "display_data"
    }
   ],
   "source": [
    "NEWS_NEG_SENTIMENT_COUNT.AAPL.plot()"
   ]
  },
  {
   "cell_type": "markdown",
   "metadata": {},
   "source": [
    "# figure 2 in page 2"
   ]
  },
  {
   "cell_type": "code",
   "execution_count": 47,
   "metadata": {},
   "outputs": [
    {
     "data": {
      "text/plain": [
       "<matplotlib.axes._subplots.AxesSubplot at 0x1a1de1eb00>"
      ]
     },
     "execution_count": 47,
     "metadata": {},
     "output_type": "execute_result"
    },
    {
     "data": {
      "image/png": "[encoded data removed]",
      "text/plain": [
       "<Figure size 432x288 with 1 Axes>"
      ]
     },
     "metadata": {
      "needs_background": "light"
     },
     "output_type": "display_data"
    }
   ],
   "source": [
    "bad_news_agent.AAPL.plot()"
   ]
  },
  {
   "cell_type": "markdown",
   "metadata": {},
   "source": [
    "# figure 3 in page 2"
   ]
  },
  {
   "cell_type": "code",
   "execution_count": 62,
   "metadata": {},
   "outputs": [
    {
     "data": {
      "text/plain": [
       "<matplotlib.axes._subplots.AxesSubplot at 0x1c294c19e8>"
      ]
     },
     "execution_count": 62,
     "metadata": {},
     "output_type": "execute_result"
    },
    {
     "data": {
      "image/png": "[encoded data removed]",
      "text/plain": [
       "<Figure size 432x288 with 1 Axes>"
      ]
     },
     "metadata": {
      "needs_background": "light"
     },
     "output_type": "display_data"
    }
   ],
   "source": [
    "log_return.AAPL.plot()"
   ]
  },
  {
   "cell_type": "markdown",
   "metadata": {},
   "source": [
    "# figure 4 in page 2"
   ]
  },
  {
   "cell_type": "code",
   "execution_count": 61,
   "metadata": {},
   "outputs": [
    {
     "data": {
      "text/plain": [
       "<matplotlib.axes._subplots.AxesSubplot at 0x1c294e6198>"
      ]
     },
     "execution_count": 61,
     "metadata": {},
     "output_type": "execute_result"
    },
    {
     "data": {
      "image/png": "[encoded data removed]",
      "text/plain": [
       "<Figure size 432x288 with 1 Axes>"
      ]
     },
     "metadata": {
      "needs_background": "light"
     },
     "output_type": "display_data"
    }
   ],
   "source": [
    "good_stock_agent = log_return\n",
    "for i in range(1,60+1):\n",
    "    good_stock_agent = good_stock_agent+log_return.shift(1+i)\n",
    "\n",
    "good_stock_agent.AAPL.plot()"
   ]
  },
  {
   "cell_type": "code",
   "execution_count": null,
   "metadata": {},
   "outputs": [],
   "source": [
    "# lag = 1, \n",
    "# period = 5, \n",
    "# th = 0.1, \n",
    "def over_reaction_factor_look_back(lag, period, th):\n",
    "    \n",
    "    over_reaction_factor = log_return\n",
    "    \n",
    "    for i in range(1,lag+1):\n",
    "        over_reaction_factor = over_reaction_factor+over_reaction_factor.shift(i)\n",
    "    \n",
    "    NEWS_NEG_SENTIMENT_COUNT_POST_MKT = NEWS_NEG_SENTIMENT_COUNT.shift(-1)\n",
    "    \n",
    "    NEG_0_1_signal = pd.DataFrame(columns = NEWS_NEG_SENTIMENT_COUNT_POST_MKT.columns)\n",
    "    for date in NEWS_NEG_SENTIMENT_COUNT_POST_MKT.index:\n",
    "        NEG_0_1_signal.loc[date,:] = NEWS_NEG_SENTIMENT_COUNT_POST_MKT.loc[:date,:].apply(zscore).iloc[-1,:]\n",
    "    \n",
    "    NEG_0_1_signal = NEWS_NEG_SENTIMENT_COUNT_POST_MKT.fillna(NEWS_NEG_SENTIMENT_COUNT_POST_MKT.mean()).apply(zscore)\n",
    "    \n",
    "    NEG_0_1_signal[NEG_0_1_signal<0.5] = 0\n",
    "    NEG_0_1_signal[NEG_0_1_signal>0.5] = 1\n",
    "    \n",
    "    NEG_0_1_signal = NEG_0_1_signal.shift(lag)\n",
    "    \n",
    "    NEG_0_1_signal[(NEG_0_1_signal==1) & (over_reaction_factor < 0)] = 0.1    \n",
    "    \n",
    "    for i in range(1,period+1):\n",
    "        NEG_0_1_signal = NEG_0_1_signal + log_return.shift(lag+i)\n",
    "    return NEG_0_1_signal"
   ]
  },
  {
   "cell_type": "code",
   "execution_count": 163,
   "metadata": {},
   "outputs": [],
   "source": [
    "# lag = 1, \n",
    "# period = 5, \n",
    "# th = 0.1, \n",
    "def over_reaction_factor_look_ahead(lag, period, th):\n",
    "    \n",
    "    over_reaction_factor = log_return\n",
    "    \n",
    "    for i in range(1,lag+1):\n",
    "        over_reaction_factor = over_reaction_factor+over_reaction_factor.shift(i)\n",
    "    \n",
    "    NEWS_NEG_SENTIMENT_COUNT_POST_MKT = NEWS_NEG_SENTIMENT_COUNT.shift(-1)\n",
    "    \n",
    "    NEG_0_1_signal = NEWS_NEG_SENTIMENT_COUNT_POST_MKT.fillna(NEWS_NEG_SENTIMENT_COUNT_POST_MKT.mean()).apply(zscore)\n",
    "    \n",
    "    NEG_0_1_signal[NEG_0_1_signal<0.5] = 0\n",
    "    NEG_0_1_signal[NEG_0_1_signal>0.5] = 1\n",
    "    \n",
    "    NEG_0_1_signal = NEG_0_1_signal.shift(lag)\n",
    "\n",
    "    NEG_0_1_signal[(NEG_0_1_signal==1) & (over_reaction_factor < 0)] = 0.1    \n",
    "    \n",
    "#     look_ahead_factor = log_return.shift(lag)\n",
    "\n",
    "    for i in range(1,period+1):\n",
    "        NEG_0_1_signal = NEG_0_1_signal + log_return.shift(lag+i)\n",
    "        \n",
    "#         look_ahead_factor = look_ahead_factor+look_ahead_factor.shift(i)\n",
    "    \n",
    "#     NEG_0_1_signal[(NEG_0_1_signal==1) & (look_ahead_factor>th)] = 1\n",
    "    \n",
    "    return NEG_0_1_signal"
   ]
  },
  {
   "cell_type": "markdown",
   "metadata": {},
   "source": [
    "# figure 5 in page 2"
   ]
  },
  {
   "cell_type": "code",
   "execution_count": 156,
   "metadata": {},
   "outputs": [
    {
     "data": {
      "text/plain": [
       "<matplotlib.axes._subplots.AxesSubplot at 0x1c2f3bab38>"
      ]
     },
     "execution_count": 156,
     "metadata": {},
     "output_type": "execute_result"
    },
    {
     "data": {
      "image/png": "[encoded data removed]",
      "text/plain": [
       "<Figure size 432x288 with 1 Axes>"
      ]
     },
     "metadata": {
      "needs_background": "light"
     },
     "output_type": "display_data"
    }
   ],
   "source": [
    "over_reaction_factor_look_ahead(1,30,0.1).NKE.plot()"
   ]
  },
  {
   "cell_type": "markdown",
   "metadata": {},
   "source": [
    "# Page 3:"
   ]
  },
  {
   "cell_type": "code",
   "execution_count": 157,
   "metadata": {},
   "outputs": [],
   "source": [
    "def regre_bmk_ar3():\n",
    "    regression_data_2 = pd.DataFrame()\n",
    "\n",
    "    regression_data_2['log_return'] = np.array(log_return.melt().value)\n",
    "\n",
    "    regression_data_2['log_return_lag_1'] = np.array(log_return_lag_1.melt().value)\n",
    "    regression_data_2['log_return_lag_2'] = np.array(log_return_lag_2.melt().value)\n",
    "    regression_data_2['log_return_lag_3'] = np.array(log_return_lag_3.melt().value)\n",
    "    regression_data_2 = regression_data_2.dropna()\n",
    "\n",
    "    X = regression_data_2.iloc[:,1:]\n",
    "    y = regression_data_2.iloc[:,0]\n",
    "\n",
    "    X2 = sm.add_constant(X)\n",
    "    est = sm.OLS(y, X2)\n",
    "    est2 = est.fit()\n",
    "    \n",
    "    return est2.rsquared.round(3)"
   ]
  },
  {
   "cell_type": "code",
   "execution_count": 158,
   "metadata": {},
   "outputs": [
    {
     "data": {
      "text/plain": [
       "0.001"
      ]
     },
     "execution_count": 158,
     "metadata": {},
     "output_type": "execute_result"
    }
   ],
   "source": [
    "bmk_r_sqd = regre_bmk_ar3()\n",
    "bmk_r_sqd"
   ]
  },
  {
   "cell_type": "code",
   "execution_count": 315,
   "metadata": {},
   "outputs": [],
   "source": [
    "def regre_test_over_reaction_look_ahead(lag,period,th):\n",
    "    \n",
    "    regression_data_2 = pd.DataFrame()\n",
    "    regression_data_2['log_return'] = np.array(log_return.melt().value)\n",
    "#     regression_data_2['log_return_lag_1'] = np.array(log_return_lag_1.melt().value)\n",
    "#     regression_data_2['log_return_lag_2'] = np.array(log_return_lag_2.melt().value)\n",
    "#     regression_data_2['log_return_lag_3'] = np.array(log_return_lag_3.melt().value)\n",
    "    regression_data_2['S&P 500'] = np.array(copy.melt().value)\n",
    "\n",
    "    regression_data_2['over_reaction_factor'] = over_reaction_factor_look_ahead(lag,period,th).shift(-9).melt().value\n",
    "    \n",
    "    regression_data_2 = regression_data_2.dropna()\n",
    "    \n",
    "    X = regression_data_2.iloc[:,1:]\n",
    "    y = regression_data_2.iloc[:,0]\n",
    "    \n",
    "    X2 = sm.add_constant(X)\n",
    "    est = sm.OLS(y, X2)\n",
    "    est2 = est.fit()\n",
    "    \n",
    "    print(est2.summary())\n",
    "    print(\"t = \", est2.tvalues[4].round(2))\n",
    "    print(\"delta rsquared = \", est2.rsquared.round(3)-bmk_r_sqd)"
   ]
  },
  {
   "cell_type": "code",
   "execution_count": 316,
   "metadata": {},
   "outputs": [
    {
     "name": "stdout",
     "output_type": "stream",
     "text": [
      "                            OLS Regression Results                            \n",
      "==============================================================================\n",
      "Dep. Variable:             log_return   R-squared:                       0.003\n",
      "Model:                            OLS   Adj. R-squared:                  0.003\n",
      "Method:                 Least Squares   F-statistic:                     167.7\n",
      "Date:                Fri, 19 Apr 2019   Prob (F-statistic):           1.87e-73\n",
      "Time:                        09:00:29   Log-Likelihood:             2.9450e+05\n",
      "No. Observations:              114035   AIC:                        -5.890e+05\n",
      "Df Residuals:                  114032   BIC:                        -5.890e+05\n",
      "Df Model:                           2                                         \n",
      "Covariance Type:            nonrobust                                         \n",
      "========================================================================================\n",
      "                           coef    std err          t      P>|t|      [0.025      0.975]\n",
      "----------------------------------------------------------------------------------------\n",
      "const                   -0.0254      0.001    -17.852      0.000      -0.028      -0.023\n",
      "S&P 500               9.441e-05   5.23e-06     18.042      0.000    8.42e-05       0.000\n",
      "over_reaction_factor    -0.0005      0.000     -2.450      0.014      -0.001   -9.89e-05\n",
      "==============================================================================\n",
      "Omnibus:                    44127.037   Durbin-Watson:                   1.996\n",
      "Prob(Omnibus):                  0.000   Jarque-Bera (JB):          3613505.648\n",
      "Skew:                          -0.969   Prob(JB):                         0.00\n",
      "Kurtosis:                      30.509   Cond. No.                     7.13e+03\n",
      "==============================================================================\n",
      "\n",
      "Warnings:\n",
      "[1] Standard Errors assume that the covariance matrix of the errors is correctly specified.\n",
      "[2] The condition number is large, 7.13e+03. This might indicate that there are\n",
      "strong multicollinearity or other numerical problems.\n"
     ]
    },
    {
     "ename": "IndexError",
     "evalue": "index out of bounds",
     "output_type": "error",
     "traceback": [
      "\u001b[0;31m---------------------------------------------------------------------------\u001b[0m",
      "\u001b[0;31mKeyError\u001b[0m                                  Traceback (most recent call last)",
      "\u001b[0;32m/anaconda3/lib/python3.7/site-packages/pandas/core/indexes/base.py\u001b[0m in \u001b[0;36mget_value\u001b[0;34m(self, series, key)\u001b[0m\n\u001b[1;32m   3117\u001b[0m             return self._engine.get_value(s, k,\n\u001b[0;32m-> 3118\u001b[0;31m                                           tz=getattr(series.dtype, 'tz', None))\n\u001b[0m\u001b[1;32m   3119\u001b[0m         \u001b[0;32mexcept\u001b[0m \u001b[0mKeyError\u001b[0m \u001b[0;32mas\u001b[0m \u001b[0me1\u001b[0m\u001b[0;34m:\u001b[0m\u001b[0;34m\u001b[0m\u001b[0;34m\u001b[0m\u001b[0m\n",
      "\u001b[0;32mpandas/_libs/index.pyx\u001b[0m in \u001b[0;36mpandas._libs.index.IndexEngine.get_value\u001b[0;34m()\u001b[0m\n",
      "\u001b[0;32mpandas/_libs/index.pyx\u001b[0m in \u001b[0;36mpandas._libs.index.IndexEngine.get_value\u001b[0;34m()\u001b[0m\n",
      "\u001b[0;32mpandas/_libs/index.pyx\u001b[0m in \u001b[0;36mpandas._libs.index.IndexEngine.get_loc\u001b[0;34m()\u001b[0m\n",
      "\u001b[0;32mpandas/_libs/hashtable_class_helper.pxi\u001b[0m in \u001b[0;36mpandas._libs.hashtable.PyObjectHashTable.get_item\u001b[0;34m()\u001b[0m\n",
      "\u001b[0;32mpandas/_libs/hashtable_class_helper.pxi\u001b[0m in \u001b[0;36mpandas._libs.hashtable.PyObjectHashTable.get_item\u001b[0;34m()\u001b[0m\n",
      "\u001b[0;31mKeyError\u001b[0m: 4",
      "\nDuring handling of the above exception, another exception occurred:\n",
      "\u001b[0;31mIndexError\u001b[0m                                Traceback (most recent call last)",
      "\u001b[0;32m<ipython-input-316-cdf539aa826c>\u001b[0m in \u001b[0;36m<module>\u001b[0;34m\u001b[0m\n\u001b[0;32m----> 1\u001b[0;31m \u001b[0mregre_test_over_reaction_look_ahead\u001b[0m\u001b[0;34m(\u001b[0m\u001b[0;36m1\u001b[0m\u001b[0;34m,\u001b[0m\u001b[0;36m5\u001b[0m\u001b[0;34m,\u001b[0m\u001b[0;36m0.1\u001b[0m\u001b[0;34m)\u001b[0m\u001b[0;34m\u001b[0m\u001b[0;34m\u001b[0m\u001b[0m\n\u001b[0m",
      "\u001b[0;32m<ipython-input-315-c5c261703849>\u001b[0m in \u001b[0;36mregre_test_over_reaction_look_ahead\u001b[0;34m(lag, period, th)\u001b[0m\n\u001b[1;32m     20\u001b[0m \u001b[0;34m\u001b[0m\u001b[0m\n\u001b[1;32m     21\u001b[0m     \u001b[0mprint\u001b[0m\u001b[0;34m(\u001b[0m\u001b[0mest2\u001b[0m\u001b[0;34m.\u001b[0m\u001b[0msummary\u001b[0m\u001b[0;34m(\u001b[0m\u001b[0;34m)\u001b[0m\u001b[0;34m)\u001b[0m\u001b[0;34m\u001b[0m\u001b[0;34m\u001b[0m\u001b[0m\n\u001b[0;32m---> 22\u001b[0;31m     \u001b[0mprint\u001b[0m\u001b[0;34m(\u001b[0m\u001b[0;34m\"t = \"\u001b[0m\u001b[0;34m,\u001b[0m \u001b[0mest2\u001b[0m\u001b[0;34m.\u001b[0m\u001b[0mtvalues\u001b[0m\u001b[0;34m[\u001b[0m\u001b[0;36m4\u001b[0m\u001b[0;34m]\u001b[0m\u001b[0;34m.\u001b[0m\u001b[0mround\u001b[0m\u001b[0;34m(\u001b[0m\u001b[0;36m2\u001b[0m\u001b[0;34m)\u001b[0m\u001b[0;34m)\u001b[0m\u001b[0;34m\u001b[0m\u001b[0;34m\u001b[0m\u001b[0m\n\u001b[0m\u001b[1;32m     23\u001b[0m     \u001b[0mprint\u001b[0m\u001b[0;34m(\u001b[0m\u001b[0;34m\"delta rsquared = \"\u001b[0m\u001b[0;34m,\u001b[0m \u001b[0mest2\u001b[0m\u001b[0;34m.\u001b[0m\u001b[0mrsquared\u001b[0m\u001b[0;34m.\u001b[0m\u001b[0mround\u001b[0m\u001b[0;34m(\u001b[0m\u001b[0;36m3\u001b[0m\u001b[0;34m)\u001b[0m\u001b[0;34m-\u001b[0m\u001b[0mbmk_r_sqd\u001b[0m\u001b[0;34m)\u001b[0m\u001b[0;34m\u001b[0m\u001b[0;34m\u001b[0m\u001b[0m\n",
      "\u001b[0;32m/anaconda3/lib/python3.7/site-packages/pandas/core/series.py\u001b[0m in \u001b[0;36m__getitem__\u001b[0;34m(self, key)\u001b[0m\n\u001b[1;32m    765\u001b[0m         \u001b[0mkey\u001b[0m \u001b[0;34m=\u001b[0m \u001b[0mcom\u001b[0m\u001b[0;34m.\u001b[0m\u001b[0m_apply_if_callable\u001b[0m\u001b[0;34m(\u001b[0m\u001b[0mkey\u001b[0m\u001b[0;34m,\u001b[0m \u001b[0mself\u001b[0m\u001b[0;34m)\u001b[0m\u001b[0;34m\u001b[0m\u001b[0;34m\u001b[0m\u001b[0m\n\u001b[1;32m    766\u001b[0m         \u001b[0;32mtry\u001b[0m\u001b[0;34m:\u001b[0m\u001b[0;34m\u001b[0m\u001b[0;34m\u001b[0m\u001b[0m\n\u001b[0;32m--> 767\u001b[0;31m             \u001b[0mresult\u001b[0m \u001b[0;34m=\u001b[0m \u001b[0mself\u001b[0m\u001b[0;34m.\u001b[0m\u001b[0mindex\u001b[0m\u001b[0;34m.\u001b[0m\u001b[0mget_value\u001b[0m\u001b[0;34m(\u001b[0m\u001b[0mself\u001b[0m\u001b[0;34m,\u001b[0m \u001b[0mkey\u001b[0m\u001b[0;34m)\u001b[0m\u001b[0;34m\u001b[0m\u001b[0;34m\u001b[0m\u001b[0m\n\u001b[0m\u001b[1;32m    768\u001b[0m \u001b[0;34m\u001b[0m\u001b[0m\n\u001b[1;32m    769\u001b[0m             \u001b[0;32mif\u001b[0m \u001b[0;32mnot\u001b[0m \u001b[0mis_scalar\u001b[0m\u001b[0;34m(\u001b[0m\u001b[0mresult\u001b[0m\u001b[0;34m)\u001b[0m\u001b[0;34m:\u001b[0m\u001b[0;34m\u001b[0m\u001b[0;34m\u001b[0m\u001b[0m\n",
      "\u001b[0;32m/anaconda3/lib/python3.7/site-packages/pandas/core/indexes/base.py\u001b[0m in \u001b[0;36mget_value\u001b[0;34m(self, series, key)\u001b[0m\n\u001b[1;32m   3122\u001b[0m \u001b[0;34m\u001b[0m\u001b[0m\n\u001b[1;32m   3123\u001b[0m             \u001b[0;32mtry\u001b[0m\u001b[0;34m:\u001b[0m\u001b[0;34m\u001b[0m\u001b[0;34m\u001b[0m\u001b[0m\n\u001b[0;32m-> 3124\u001b[0;31m                 \u001b[0;32mreturn\u001b[0m \u001b[0mlibindex\u001b[0m\u001b[0;34m.\u001b[0m\u001b[0mget_value_box\u001b[0m\u001b[0;34m(\u001b[0m\u001b[0ms\u001b[0m\u001b[0;34m,\u001b[0m \u001b[0mkey\u001b[0m\u001b[0;34m)\u001b[0m\u001b[0;34m\u001b[0m\u001b[0;34m\u001b[0m\u001b[0m\n\u001b[0m\u001b[1;32m   3125\u001b[0m             \u001b[0;32mexcept\u001b[0m \u001b[0mIndexError\u001b[0m\u001b[0;34m:\u001b[0m\u001b[0;34m\u001b[0m\u001b[0;34m\u001b[0m\u001b[0m\n\u001b[1;32m   3126\u001b[0m                 \u001b[0;32mraise\u001b[0m\u001b[0;34m\u001b[0m\u001b[0;34m\u001b[0m\u001b[0m\n",
      "\u001b[0;32mpandas/_libs/index.pyx\u001b[0m in \u001b[0;36mpandas._libs.index.get_value_box\u001b[0;34m()\u001b[0m\n",
      "\u001b[0;32mpandas/_libs/index.pyx\u001b[0m in \u001b[0;36mpandas._libs.index.get_value_box\u001b[0;34m()\u001b[0m\n",
      "\u001b[0;31mIndexError\u001b[0m: index out of bounds"
     ]
    }
   ],
   "source": [
    "regre_test_over_reaction_look_ahead(1,5,0.1)"
   ]
  },
  {
   "cell_type": "code",
   "execution_count": 166,
   "metadata": {},
   "outputs": [],
   "source": [
    "company_info = pd.read_excel('Copy of symbols of sp500 2.xlsx', header = 0, index_col = 0)"
   ]
  },
  {
   "cell_type": "code",
   "execution_count": 204,
   "metadata": {},
   "outputs": [],
   "source": [
    "company_list_by_cap = company_info.sort_values(['marketcap']).dropna().index"
   ]
  },
  {
   "cell_type": "code",
   "execution_count": 205,
   "metadata": {},
   "outputs": [
    {
     "data": {
      "text/plain": [
       "Index(['NI', 'MAT', 'GS', 'BF/B', 'HRB', 'FLIR', 'PXD', 'LEG', 'MAC', 'AMG',\n",
       "       ...\n",
       "       'XOM', 'JPM', 'VAR', 'JNJ', 'FAST', 'GM', 'GOOG', 'AMZN', 'MSFT',\n",
       "       'AAPL'],\n",
       "      dtype='object', name='stock', length=503)"
      ]
     },
     "execution_count": 205,
     "metadata": {},
     "output_type": "execute_result"
    }
   ],
   "source": [
    "company_list_by_cap"
   ]
  },
  {
   "cell_type": "code",
   "execution_count": 186,
   "metadata": {},
   "outputs": [],
   "source": [
    "high_cap_list = company_info.index[company_info.marketcap > 100000]\n",
    "low_cap_list = company_info.index[company_info.marketcap <= 100000]"
   ]
  },
  {
   "cell_type": "code",
   "execution_count": 187,
   "metadata": {},
   "outputs": [],
   "source": [
    "def regre_high_low_cap(cap_list,lag,period,th):\n",
    "    \n",
    "    regression_data_2 = pd.DataFrame()\n",
    "    \n",
    "    regression_data_2['log_return'] = np.array(log_return.loc[:,cap_list].melt().value)\n",
    "    regression_data_2['log_return_lag_1'] = np.array(log_return_lag_1.loc[:,cap_list].melt().value)\n",
    "    regression_data_2['log_return_lag_2'] = np.array(log_return_lag_2.loc[:,cap_list].melt().value)\n",
    "    regression_data_2['log_return_lag_3'] = np.array(log_return_lag_3.loc[:,cap_list].melt().value)\n",
    "    \n",
    "    regression_data_2['over_reaction_factor'] = over_reaction_factor_look_ahead(lag,period,th).shift(-1).loc[:,cap_list].melt().value\n",
    "    \n",
    "    regression_data_2 = regression_data_2.dropna()\n",
    "    \n",
    "    X = regression_data_2.iloc[:,1:]\n",
    "    y = regression_data_2.iloc[:,0]\n",
    "    \n",
    "    X2 = sm.add_constant(X)\n",
    "    est = sm.OLS(y, X2)\n",
    "    est2 = est.fit()\n",
    "    \n",
    "    print(est2.summary())\n",
    "#     print(\"t = \", est2.tvalues[4].round(2))\n",
    "#     print(\"delta rsquared = \", est2.rsquared.round(3)-bmk_r_sqd)"
   ]
  },
  {
   "cell_type": "code",
   "execution_count": 208,
   "metadata": {
    "scrolled": false
   },
   "outputs": [
    {
     "name": "stdout",
     "output_type": "stream",
     "text": [
      "                            OLS Regression Results                            \n",
      "==============================================================================\n",
      "Dep. Variable:             log_return   R-squared:                       0.015\n",
      "Model:                            OLS   Adj. R-squared:                  0.015\n",
      "Method:                 Least Squares   F-statistic:                     45.43\n",
      "Date:                Fri, 19 Apr 2019   Prob (F-statistic):           6.27e-38\n",
      "Time:                        00:02:28   Log-Likelihood:                 29015.\n",
      "No. Observations:               11730   AIC:                        -5.802e+04\n",
      "Df Residuals:                   11725   BIC:                        -5.798e+04\n",
      "Df Model:                           4                                         \n",
      "Covariance Type:            nonrobust                                         \n",
      "========================================================================================\n",
      "                           coef    std err          t      P>|t|      [0.025      0.975]\n",
      "----------------------------------------------------------------------------------------\n",
      "const                   -0.0010      0.000     -4.832      0.000      -0.001      -0.001\n",
      "log_return_lag_1         0.0113      0.009      1.226      0.220      -0.007       0.029\n",
      "log_return_lag_2         0.0160      0.009      1.744      0.081      -0.002       0.034\n",
      "log_return_lag_3        -0.0069      0.009     -0.751      0.452      -0.025       0.011\n",
      "over_reaction_factor     0.0096      0.001     13.021      0.000       0.008       0.011\n",
      "==============================================================================\n",
      "Omnibus:                     3885.271   Durbin-Watson:                   2.016\n",
      "Prob(Omnibus):                  0.000   Jarque-Bera (JB):           539436.578\n",
      "Skew:                          -0.498   Prob(JB):                         0.00\n",
      "Kurtosis:                      36.207   Cond. No.                         49.4\n",
      "==============================================================================\n",
      "\n",
      "Warnings:\n",
      "[1] Standard Errors assume that the covariance matrix of the errors is correctly specified.\n",
      "                            OLS Regression Results                            \n",
      "==============================================================================\n",
      "Dep. Variable:             log_return   R-squared:                       0.015\n",
      "Model:                            OLS   Adj. R-squared:                  0.015\n",
      "Method:                 Least Squares   F-statistic:                     43.86\n",
      "Date:                Fri, 19 Apr 2019   Prob (F-statistic):           1.37e-36\n",
      "Time:                        00:02:28   Log-Likelihood:                 28807.\n",
      "No. Observations:               11193   AIC:                        -5.760e+04\n",
      "Df Residuals:                   11188   BIC:                        -5.757e+04\n",
      "Df Model:                           4                                         \n",
      "Covariance Type:            nonrobust                                         \n",
      "========================================================================================\n",
      "                           coef    std err          t      P>|t|      [0.025      0.975]\n",
      "----------------------------------------------------------------------------------------\n",
      "const                   -0.0006      0.000     -3.149      0.002      -0.001      -0.000\n",
      "log_return_lag_1         0.0112      0.009      1.198      0.231      -0.007       0.030\n",
      "log_return_lag_2         0.0157      0.009      1.666      0.096      -0.003       0.034\n",
      "log_return_lag_3         0.0020      0.009      0.212      0.832      -0.016       0.020\n",
      "over_reaction_factor     0.0083      0.001     12.860      0.000       0.007       0.010\n",
      "==============================================================================\n",
      "Omnibus:                     5622.953   Durbin-Watson:                   2.013\n",
      "Prob(Omnibus):                  0.000   Jarque-Bera (JB):           380626.280\n",
      "Skew:                          -1.584   Prob(JB):                         0.00\n",
      "Kurtosis:                      31.392   Cond. No.                         54.6\n",
      "==============================================================================\n",
      "\n",
      "Warnings:\n",
      "[1] Standard Errors assume that the covariance matrix of the errors is correctly specified.\n",
      "                            OLS Regression Results                            \n",
      "==============================================================================\n",
      "Dep. Variable:             log_return   R-squared:                       0.018\n",
      "Model:                            OLS   Adj. R-squared:                  0.018\n",
      "Method:                 Least Squares   F-statistic:                     53.61\n",
      "Date:                Fri, 19 Apr 2019   Prob (F-statistic):           7.83e-45\n",
      "Time:                        00:02:29   Log-Likelihood:                 30030.\n",
      "No. Observations:               11475   AIC:                        -6.005e+04\n",
      "Df Residuals:                   11470   BIC:                        -6.001e+04\n",
      "Df Model:                           4                                         \n",
      "Covariance Type:            nonrobust                                         \n",
      "========================================================================================\n",
      "                           coef    std err          t      P>|t|      [0.025      0.975]\n",
      "----------------------------------------------------------------------------------------\n",
      "const                   -0.0005      0.000     -2.655      0.008      -0.001      -0.000\n",
      "log_return_lag_1        -0.0022      0.009     -0.233      0.816      -0.020       0.016\n",
      "log_return_lag_2         0.0180      0.009      1.941      0.052      -0.000       0.036\n",
      "log_return_lag_3         0.0071      0.009      0.769      0.442      -0.011       0.025\n",
      "over_reaction_factor     0.0089      0.001     14.218      0.000       0.008       0.010\n",
      "==============================================================================\n",
      "Omnibus:                     2537.866   Durbin-Watson:                   2.014\n",
      "Prob(Omnibus):                  0.000   Jarque-Bera (JB):            81898.366\n",
      "Skew:                          -0.356   Prob(JB):                         0.00\n",
      "Kurtosis:                      16.068   Cond. No.                         57.0\n",
      "==============================================================================\n",
      "\n",
      "Warnings:\n",
      "[1] Standard Errors assume that the covariance matrix of the errors is correctly specified.\n",
      "                            OLS Regression Results                            \n",
      "==============================================================================\n",
      "Dep. Variable:             log_return   R-squared:                       0.018\n",
      "Model:                            OLS   Adj. R-squared:                  0.017\n",
      "Method:                 Least Squares   F-statistic:                     54.14\n",
      "Date:                Fri, 19 Apr 2019   Prob (F-statistic):           2.67e-45\n",
      "Time:                        00:02:29   Log-Likelihood:                 31172.\n",
      "No. Observations:               12001   AIC:                        -6.233e+04\n",
      "Df Residuals:                   11996   BIC:                        -6.230e+04\n",
      "Df Model:                           4                                         \n",
      "Covariance Type:            nonrobust                                         \n",
      "========================================================================================\n",
      "                           coef    std err          t      P>|t|      [0.025      0.975]\n",
      "----------------------------------------------------------------------------------------\n",
      "const                   -0.0007      0.000     -3.941      0.000      -0.001      -0.000\n",
      "log_return_lag_1        -0.0002      0.009     -0.027      0.978      -0.018       0.018\n",
      "log_return_lag_2        -0.0063      0.009     -0.690      0.490      -0.024       0.012\n",
      "log_return_lag_3         0.0136      0.009      1.498      0.134      -0.004       0.031\n",
      "over_reaction_factor     0.0089      0.001     14.519      0.000       0.008       0.010\n",
      "==============================================================================\n",
      "Omnibus:                     2547.159   Durbin-Watson:                   2.011\n",
      "Prob(Omnibus):                  0.000   Jarque-Bera (JB):            42576.825\n",
      "Skew:                          -0.565   Prob(JB):                         0.00\n",
      "Kurtosis:                      12.158   Cond. No.                         55.5\n",
      "==============================================================================\n",
      "\n",
      "Warnings:\n",
      "[1] Standard Errors assume that the covariance matrix of the errors is correctly specified.\n"
     ]
    },
    {
     "name": "stdout",
     "output_type": "stream",
     "text": [
      "                            OLS Regression Results                            \n",
      "==============================================================================\n",
      "Dep. Variable:             log_return   R-squared:                       0.016\n",
      "Model:                            OLS   Adj. R-squared:                  0.015\n",
      "Method:                 Least Squares   F-statistic:                     48.98\n",
      "Date:                Fri, 19 Apr 2019   Prob (F-statistic):           6.07e-41\n",
      "Time:                        00:02:29   Log-Likelihood:                 32877.\n",
      "No. Observations:               12240   AIC:                        -6.574e+04\n",
      "Df Residuals:                   12235   BIC:                        -6.571e+04\n",
      "Df Model:                           4                                         \n",
      "Covariance Type:            nonrobust                                         \n",
      "========================================================================================\n",
      "                           coef    std err          t      P>|t|      [0.025      0.975]\n",
      "----------------------------------------------------------------------------------------\n",
      "const                   -0.0003      0.000     -1.661      0.097      -0.001    4.67e-05\n",
      "log_return_lag_1         0.0181      0.009      2.015      0.044       0.000       0.036\n",
      "log_return_lag_2         0.0106      0.009      1.182      0.237      -0.007       0.028\n",
      "log_return_lag_3         0.0038      0.009      0.425      0.671      -0.014       0.021\n",
      "over_reaction_factor     0.0077      0.001     13.491      0.000       0.007       0.009\n",
      "==============================================================================\n",
      "Omnibus:                     2651.748   Durbin-Watson:                   2.014\n",
      "Prob(Omnibus):                  0.000   Jarque-Bera (JB):            69030.361\n",
      "Skew:                          -0.422   Prob(JB):                         0.00\n",
      "Kurtosis:                      14.603   Cond. No.                         61.2\n",
      "==============================================================================\n",
      "\n",
      "Warnings:\n",
      "[1] Standard Errors assume that the covariance matrix of the errors is correctly specified.\n",
      "                            OLS Regression Results                            \n",
      "==============================================================================\n",
      "Dep. Variable:             log_return   R-squared:                       0.015\n",
      "Model:                            OLS   Adj. R-squared:                  0.014\n",
      "Method:                 Least Squares   F-statistic:                     43.86\n",
      "Date:                Fri, 19 Apr 2019   Prob (F-statistic):           1.33e-36\n",
      "Time:                        00:02:30   Log-Likelihood:                 31148.\n",
      "No. Observations:               11746   AIC:                        -6.229e+04\n",
      "Df Residuals:                   11741   BIC:                        -6.225e+04\n",
      "Df Model:                           4                                         \n",
      "Covariance Type:            nonrobust                                         \n",
      "========================================================================================\n",
      "                           coef    std err          t      P>|t|      [0.025      0.975]\n",
      "----------------------------------------------------------------------------------------\n",
      "const                   -0.0004      0.000     -2.588      0.010      -0.001      -0.000\n",
      "log_return_lag_1         0.0203      0.009      2.217      0.027       0.002       0.038\n",
      "log_return_lag_2        -0.0020      0.009     -0.221      0.825      -0.020       0.016\n",
      "log_return_lag_3        -0.0079      0.009     -0.864      0.388      -0.026       0.010\n",
      "over_reaction_factor     0.0076      0.001     12.922      0.000       0.006       0.009\n",
      "==============================================================================\n",
      "Omnibus:                     5177.007   Durbin-Watson:                   2.011\n",
      "Prob(Omnibus):                  0.000   Jarque-Bera (JB):           291861.466\n",
      "Skew:                          -1.327   Prob(JB):                         0.00\n",
      "Kurtosis:                      27.276   Cond. No.                         59.3\n",
      "==============================================================================\n",
      "\n",
      "Warnings:\n",
      "[1] Standard Errors assume that the covariance matrix of the errors is correctly specified.\n",
      "                            OLS Regression Results                            \n",
      "==============================================================================\n",
      "Dep. Variable:             log_return   R-squared:                       0.013\n",
      "Model:                            OLS   Adj. R-squared:                  0.013\n",
      "Method:                 Least Squares   F-statistic:                     39.51\n",
      "Date:                Fri, 19 Apr 2019   Prob (F-statistic):           6.41e-33\n",
      "Time:                        00:02:30   Log-Likelihood:                 31481.\n",
      "No. Observations:               11985   AIC:                        -6.295e+04\n",
      "Df Residuals:                   11980   BIC:                        -6.292e+04\n",
      "Df Model:                           4                                         \n",
      "Covariance Type:            nonrobust                                         \n",
      "========================================================================================\n",
      "                           coef    std err          t      P>|t|      [0.025      0.975]\n",
      "----------------------------------------------------------------------------------------\n",
      "const                   -0.0003      0.000     -1.735      0.083      -0.001    3.79e-05\n",
      "log_return_lag_1         0.0073      0.009      0.799      0.424      -0.011       0.025\n",
      "log_return_lag_2         0.0165      0.009      1.822      0.068      -0.001       0.034\n",
      "log_return_lag_3        -0.0111      0.009     -1.228      0.219      -0.029       0.007\n",
      "over_reaction_factor     0.0072      0.001     12.206      0.000       0.006       0.008\n",
      "==============================================================================\n",
      "Omnibus:                     2399.277   Durbin-Watson:                   2.016\n",
      "Prob(Omnibus):                  0.000   Jarque-Bera (JB):            75343.615\n",
      "Skew:                          -0.179   Prob(JB):                         0.00\n",
      "Kurtosis:                      15.278   Cond. No.                         57.5\n",
      "==============================================================================\n",
      "\n",
      "Warnings:\n",
      "[1] Standard Errors assume that the covariance matrix of the errors is correctly specified.\n",
      "                            OLS Regression Results                            \n",
      "==============================================================================\n",
      "Dep. Variable:             log_return   R-squared:                       0.017\n",
      "Model:                            OLS   Adj. R-squared:                  0.016\n",
      "Method:                 Least Squares   F-statistic:                     48.15\n",
      "Date:                Fri, 19 Apr 2019   Prob (F-statistic):           3.18e-40\n",
      "Time:                        00:02:30   Log-Likelihood:                 30137.\n",
      "No. Observations:               11475   AIC:                        -6.026e+04\n",
      "Df Residuals:                   11470   BIC:                        -6.023e+04\n",
      "Df Model:                           4                                         \n",
      "Covariance Type:            nonrobust                                         \n",
      "========================================================================================\n",
      "                           coef    std err          t      P>|t|      [0.025      0.975]\n",
      "----------------------------------------------------------------------------------------\n",
      "const                   -0.0006      0.000     -3.766      0.000      -0.001      -0.000\n",
      "log_return_lag_1         0.0306      0.009      3.315      0.001       0.013       0.049\n",
      "log_return_lag_2         0.0082      0.009      0.889      0.374      -0.010       0.026\n",
      "log_return_lag_3         0.0151      0.009      1.637      0.102      -0.003       0.033\n",
      "over_reaction_factor     0.0077      0.001     12.868      0.000       0.007       0.009\n",
      "==============================================================================\n",
      "Omnibus:                     5499.746   Durbin-Watson:                   2.016\n",
      "Prob(Omnibus):                  0.000   Jarque-Bera (JB):           491732.864\n",
      "Skew:                          -1.391   Prob(JB):                         0.00\n",
      "Kurtosis:                      34.949   Cond. No.                         58.0\n",
      "==============================================================================\n",
      "\n",
      "Warnings:\n",
      "[1] Standard Errors assume that the covariance matrix of the errors is correctly specified.\n"
     ]
    },
    {
     "name": "stdout",
     "output_type": "stream",
     "text": [
      "                            OLS Regression Results                            \n",
      "==============================================================================\n",
      "Dep. Variable:             log_return   R-squared:                       0.021\n",
      "Model:                            OLS   Adj. R-squared:                  0.021\n",
      "Method:                 Least Squares   F-statistic:                     65.53\n",
      "Date:                Fri, 19 Apr 2019   Prob (F-statistic):           6.21e-55\n",
      "Time:                        00:02:31   Log-Likelihood:                 32520.\n",
      "No. Observations:               12240   AIC:                        -6.503e+04\n",
      "Df Residuals:                   12235   BIC:                        -6.499e+04\n",
      "Df Model:                           4                                         \n",
      "Covariance Type:            nonrobust                                         \n",
      "========================================================================================\n",
      "                           coef    std err          t      P>|t|      [0.025      0.975]\n",
      "----------------------------------------------------------------------------------------\n",
      "const                   -0.0006      0.000     -4.006      0.000      -0.001      -0.000\n",
      "log_return_lag_1        -0.0060      0.009     -0.675      0.500      -0.024       0.011\n",
      "log_return_lag_2        -0.0025      0.009     -0.283      0.777      -0.020       0.015\n",
      "log_return_lag_3         0.0288      0.009      3.216      0.001       0.011       0.046\n",
      "over_reaction_factor     0.0087      0.001     15.664      0.000       0.008       0.010\n",
      "==============================================================================\n",
      "Omnibus:                     6075.160   Durbin-Watson:                   2.023\n",
      "Prob(Omnibus):                  0.000   Jarque-Bera (JB):           622056.758\n",
      "Skew:                          -1.441   Prob(JB):                         0.00\n",
      "Kurtosis:                      37.805   Cond. No.                         58.7\n",
      "==============================================================================\n",
      "\n",
      "Warnings:\n",
      "[1] Standard Errors assume that the covariance matrix of the errors is correctly specified.\n"
     ]
    }
   ],
   "source": [
    "for i in [0,50,100,150,200,250,300,350,400]:\n",
    "    regre_high_low_cap(company_list_by_cap[i:i+50],1,5,0.1)"
   ]
  },
  {
   "cell_type": "code",
   "execution_count": 226,
   "metadata": {},
   "outputs": [],
   "source": [
    "import pandas_datareader.data as web\n",
    "from datetime import datetime\n",
    "\n",
    "spx = web.DataReader('SPY', 'iex', datetime(2018,4,12), datetime(2019,4,12)).close\n",
    "# spx = spx/spx[0]\n",
    "spx.index = pd.to_datetime(spx.index)"
   ]
  },
  {
   "cell_type": "code",
   "execution_count": 235,
   "metadata": {},
   "outputs": [],
   "source": [
    "copy = all_prices.copy()"
   ]
  },
  {
   "cell_type": "code",
   "execution_count": 236,
   "metadata": {},
   "outputs": [],
   "source": [
    "for i in copy.columns:\n",
    "    copy[i] = spx"
   ]
  },
  {
   "cell_type": "code",
   "execution_count": null,
   "metadata": {},
   "outputs": [],
   "source": []
  },
  {
   "cell_type": "code",
   "execution_count": 242,
   "metadata": {},
   "outputs": [
    {
     "data": {
      "text/html": [
       "<table class=\"simpletable\">\n",
       "<caption>OLS Regression Results</caption>\n",
       "<tr>\n",
       "  <th>Dep. Variable:</th>       <td>log_return</td>    <th>  R-squared:         </th>  <td>   0.019</td> \n",
       "</tr>\n",
       "<tr>\n",
       "  <th>Model:</th>                   <td>OLS</td>       <th>  Adj. R-squared:    </th>  <td>   0.019</td> \n",
       "</tr>\n",
       "<tr>\n",
       "  <th>Method:</th>             <td>Least Squares</td>  <th>  F-statistic:       </th>  <td>   439.8</td> \n",
       "</tr>\n",
       "<tr>\n",
       "  <th>Date:</th>             <td>Fri, 19 Apr 2019</td> <th>  Prob (F-statistic):</th>   <td>  0.00</td>  \n",
       "</tr>\n",
       "<tr>\n",
       "  <th>Time:</th>                 <td>02:12:11</td>     <th>  Log-Likelihood:    </th> <td>2.9983e+05</td>\n",
       "</tr>\n",
       "<tr>\n",
       "  <th>No. Observations:</th>      <td>115458</td>      <th>  AIC:               </th> <td>-5.997e+05</td>\n",
       "</tr>\n",
       "<tr>\n",
       "  <th>Df Residuals:</th>          <td>115452</td>      <th>  BIC:               </th> <td>-5.996e+05</td>\n",
       "</tr>\n",
       "<tr>\n",
       "  <th>Df Model:</th>              <td>     5</td>      <th>                     </th>      <td> </td>    \n",
       "</tr>\n",
       "<tr>\n",
       "  <th>Covariance Type:</th>      <td>nonrobust</td>    <th>                     </th>      <td> </td>    \n",
       "</tr>\n",
       "</table>\n",
       "<table class=\"simpletable\">\n",
       "<tr>\n",
       "            <td></td>              <th>coef</th>     <th>std err</th>      <th>t</th>      <th>P>|t|</th>  <th>[0.025</th>    <th>0.975]</th>  \n",
       "</tr>\n",
       "<tr>\n",
       "  <th>const</th>                <td>   -0.0254</td> <td>    0.001</td> <td>  -18.536</td> <td> 0.000</td> <td>   -0.028</td> <td>   -0.023</td>\n",
       "</tr>\n",
       "<tr>\n",
       "  <th>log_return_lag_1</th>     <td>    0.0042</td> <td>    0.003</td> <td>    1.412</td> <td> 0.158</td> <td>   -0.002</td> <td>    0.010</td>\n",
       "</tr>\n",
       "<tr>\n",
       "  <th>log_return_lag_2</th>     <td>    0.0058</td> <td>    0.003</td> <td>    1.949</td> <td> 0.051</td> <td>-3.14e-05</td> <td>    0.012</td>\n",
       "</tr>\n",
       "<tr>\n",
       "  <th>log_return_lag_3</th>     <td>    0.0032</td> <td>    0.003</td> <td>    1.087</td> <td> 0.277</td> <td>   -0.003</td> <td>    0.009</td>\n",
       "</tr>\n",
       "<tr>\n",
       "  <th>S&P 500</th>              <td> 9.124e-05</td> <td> 5.02e-06</td> <td>   18.161</td> <td> 0.000</td> <td> 8.14e-05</td> <td>    0.000</td>\n",
       "</tr>\n",
       "<tr>\n",
       "  <th>over_reaction_factor</th> <td>    0.0084</td> <td>    0.000</td> <td>   42.101</td> <td> 0.000</td> <td>    0.008</td> <td>    0.009</td>\n",
       "</tr>\n",
       "</table>\n",
       "<table class=\"simpletable\">\n",
       "<tr>\n",
       "  <th>Omnibus:</th>       <td>45784.975</td> <th>  Durbin-Watson:     </th>  <td>   2.038</td>  \n",
       "</tr>\n",
       "<tr>\n",
       "  <th>Prob(Omnibus):</th>  <td> 0.000</td>   <th>  Jarque-Bera (JB):  </th> <td>3928125.780</td>\n",
       "</tr>\n",
       "<tr>\n",
       "  <th>Skew:</th>           <td>-1.003</td>   <th>  Prob(JB):          </th>  <td>    0.00</td>  \n",
       "</tr>\n",
       "<tr>\n",
       "  <th>Kurtosis:</th>       <td>31.504</td>   <th>  Cond. No.          </th>  <td>1.55e+04</td>  \n",
       "</tr>\n",
       "</table><br/><br/>Warnings:<br/>[1] Standard Errors assume that the covariance matrix of the errors is correctly specified.<br/>[2] The condition number is large, 1.55e+04. This might indicate that there are<br/>strong multicollinearity or other numerical problems."
      ],
      "text/plain": [
       "<class 'statsmodels.iolib.summary.Summary'>\n",
       "\"\"\"\n",
       "                            OLS Regression Results                            \n",
       "==============================================================================\n",
       "Dep. Variable:             log_return   R-squared:                       0.019\n",
       "Model:                            OLS   Adj. R-squared:                  0.019\n",
       "Method:                 Least Squares   F-statistic:                     439.8\n",
       "Date:                Fri, 19 Apr 2019   Prob (F-statistic):               0.00\n",
       "Time:                        02:12:11   Log-Likelihood:             2.9983e+05\n",
       "No. Observations:              115458   AIC:                        -5.997e+05\n",
       "Df Residuals:                  115452   BIC:                        -5.996e+05\n",
       "Df Model:                           5                                         \n",
       "Covariance Type:            nonrobust                                         \n",
       "========================================================================================\n",
       "                           coef    std err          t      P>|t|      [0.025      0.975]\n",
       "----------------------------------------------------------------------------------------\n",
       "const                   -0.0254      0.001    -18.536      0.000      -0.028      -0.023\n",
       "log_return_lag_1         0.0042      0.003      1.412      0.158      -0.002       0.010\n",
       "log_return_lag_2         0.0058      0.003      1.949      0.051   -3.14e-05       0.012\n",
       "log_return_lag_3         0.0032      0.003      1.087      0.277      -0.003       0.009\n",
       "S&P 500               9.124e-05   5.02e-06     18.161      0.000    8.14e-05       0.000\n",
       "over_reaction_factor     0.0084      0.000     42.101      0.000       0.008       0.009\n",
       "==============================================================================\n",
       "Omnibus:                    45784.975   Durbin-Watson:                   2.038\n",
       "Prob(Omnibus):                  0.000   Jarque-Bera (JB):          3928125.780\n",
       "Skew:                          -1.003   Prob(JB):                         0.00\n",
       "Kurtosis:                      31.504   Cond. No.                     1.55e+04\n",
       "==============================================================================\n",
       "\n",
       "Warnings:\n",
       "[1] Standard Errors assume that the covariance matrix of the errors is correctly specified.\n",
       "[2] The condition number is large, 1.55e+04. This might indicate that there are\n",
       "strong multicollinearity or other numerical problems.\n",
       "\"\"\""
      ]
     },
     "execution_count": 242,
     "metadata": {},
     "output_type": "execute_result"
    }
   ],
   "source": [
    "def regre_bmk_ar2():\n",
    "    regression_data_2 = pd.DataFrame()\n",
    "\n",
    "    regression_data_2['log_return'] = np.array(log_return.melt().value)\n",
    "\n",
    "    regression_data_2['log_return_lag_1'] = np.array(log_return_lag_1.melt().value)\n",
    "    regression_data_2['log_return_lag_2'] = np.array(log_return_lag_2.melt().value)\n",
    "    regression_data_2['log_return_lag_3'] = np.array(log_return_lag_3.melt().value)\n",
    "#     regression_data_2['log_return_lag_4'] = np.array(log_return_lag_4.melt().value)\n",
    "#     regression_data_2['log_return_lag_5'] = np.array(log_return_lag_5.melt().value)\n",
    "    \n",
    "    regression_data_2['S&P 500'] = np.array(copy.melt().value)\n",
    "    \n",
    "    regression_data_2['over_reaction_factor'] = over_reaction_factor_look_ahead(1,5,0.1).shift(-1).melt().value\n",
    "\n",
    "    regression_data_2 = regression_data_2.dropna()\n",
    "\n",
    "    X = regression_data_2.iloc[:,1:]\n",
    "    y = regression_data_2.iloc[:,0]\n",
    "\n",
    "    X2 = sm.add_constant(X)\n",
    "    est = sm.OLS(y, X2)\n",
    "    est2 = est.fit()\n",
    "    \n",
    "    return est2.summary()\n",
    "\n",
    "regre_bmk_ar2()"
   ]
  },
  {
   "cell_type": "code",
   "execution_count": 243,
   "metadata": {},
   "outputs": [
    {
     "data": {
      "text/plain": [
       "0.001"
      ]
     },
     "execution_count": 243,
     "metadata": {},
     "output_type": "execute_result"
    }
   ],
   "source": [
    "def regre_bmk_ar4():\n",
    "    regression_data_2 = pd.DataFrame()\n",
    "\n",
    "    regression_data_2['log_return'] = np.array(log_return.melt().value)\n",
    "\n",
    "    regression_data_2['log_return_lag_1'] = np.array(log_return_lag_1.melt().value)\n",
    "    regression_data_2['log_return_lag_2'] = np.array(log_return_lag_2.melt().value)\n",
    "    regression_data_2['log_return_lag_3'] = np.array(log_return_lag_3.melt().value)\n",
    "    regression_data_2['log_return_lag_4'] = np.array(log_return_lag_4.melt().value)\n",
    "    \n",
    "    regression_data_2 = regression_data_2.dropna()\n",
    "\n",
    "    X = regression_data_2.iloc[:,1:]\n",
    "    y = regression_data_2.iloc[:,0]\n",
    "\n",
    "    X2 = sm.add_constant(X)\n",
    "    est = sm.OLS(y, X2)\n",
    "    est2 = est.fit()\n",
    "    \n",
    "    return est2.rsquared.round(3)\n",
    "regre_bmk_ar4()"
   ]
  },
  {
   "cell_type": "code",
   "execution_count": null,
   "metadata": {},
   "outputs": [],
   "source": []
  },
  {
   "cell_type": "code",
   "execution_count": 214,
   "metadata": {},
   "outputs": [
    {
     "data": {
      "text/plain": [
       "0.001"
      ]
     },
     "execution_count": 214,
     "metadata": {},
     "output_type": "execute_result"
    }
   ],
   "source": []
  },
  {
   "cell_type": "code",
   "execution_count": null,
   "metadata": {},
   "outputs": [],
   "source": []
  },
  {
   "cell_type": "code",
   "execution_count": null,
   "metadata": {},
   "outputs": [],
   "source": []
  },
  {
   "cell_type": "code",
   "execution_count": null,
   "metadata": {},
   "outputs": [],
   "source": [
    "def regre_bmk_ar5():\n",
    "    regression_data_2 = pd.DataFrame()\n",
    "\n",
    "    regression_data_2['log_return'] = np.array(log_return.melt().value)\n",
    "\n",
    "    regression_data_2['log_return_lag_1'] = np.array(log_return_lag_1.melt().value)\n",
    "    regression_data_2['log_return_lag_2'] = np.array(log_return_lag_2.melt().value)\n",
    "#     regression_data_2['log_return_lag_3'] = np.array(log_return_lag_3.melt().value)\n",
    "    regression_data_2 = regression_data_2.dropna()\n",
    "\n",
    "    X = regression_data_2.iloc[:,1:]\n",
    "    y = regression_data_2.iloc[:,0]\n",
    "\n",
    "    X2 = sm.add_constant(X)\n",
    "    est = sm.OLS(y, X2)\n",
    "    est2 = est.fit()\n",
    "    \n",
    "    return est2.rsquared.round(3)\n",
    "regre_bmk_ar2()"
   ]
  },
  {
   "cell_type": "markdown",
   "metadata": {},
   "source": [
    "# Additional"
   ]
  },
  {
   "cell_type": "code",
   "execution_count": 159,
   "metadata": {},
   "outputs": [],
   "source": [
    "# lag = 1, \n",
    "# period = 5, \n",
    "# th = 0.1, \n",
    "def over_reaction_factor_look_back(lag, period, th):\n",
    "    \n",
    "    over_reaction_factor = log_return\n",
    "    \n",
    "    for i in range(1,lag+1):\n",
    "        over_reaction_factor = over_reaction_factor+over_reaction_factor.shift(i)\n",
    "    \n",
    "    NEWS_NEG_SENTIMENT_COUNT_POST_MKT = NEWS_NEG_SENTIMENT_COUNT.shift(-1)\n",
    "    \n",
    "    NEG_0_1_signal = pd.DataFrame(columns = NEWS_NEG_SENTIMENT_COUNT_POST_MKT.columns)\n",
    "    for date in NEWS_NEG_SENTIMENT_COUNT_POST_MKT.index:\n",
    "        NEG_0_1_signal.loc[date,:] = NEWS_NEG_SENTIMENT_COUNT_POST_MKT.loc[:date,:].apply(zscore).iloc[-1,:]\n",
    "    \n",
    "    NEG_0_1_signal = NEWS_NEG_SENTIMENT_COUNT_POST_MKT.fillna(NEWS_NEG_SENTIMENT_COUNT_POST_MKT.mean()).apply(zscore)\n",
    "    \n",
    "    NEG_0_1_signal[NEG_0_1_signal<0.5] = 0\n",
    "    NEG_0_1_signal[NEG_0_1_signal>0.5] = 1\n",
    "    \n",
    "    NEG_0_1_signal = NEG_0_1_signal.shift(lag)\n",
    "    \n",
    "    NEG_0_1_signal[(NEG_0_1_signal==1) & (over_reaction_factor < 0)] = 0.1    \n",
    "    \n",
    "    for i in range(1,period+1):\n",
    "        NEG_0_1_signal = NEG_0_1_signal + log_return.shift(lag+i)\n",
    "    return NEG_0_1_signal"
   ]
  },
  {
   "cell_type": "code",
   "execution_count": 125,
   "metadata": {},
   "outputs": [],
   "source": [
    "SIGNAL = over_reaction_factor_look_ahead(1,5,0.1)"
   ]
  },
  {
   "cell_type": "code",
   "execution_count": null,
   "metadata": {},
   "outputs": [],
   "source": []
  }
 ],
 "metadata": {
  "kernelspec": {
   "display_name": "Python 3",
   "language": "python",
   "name": "python3"
  },
  "language_info": {
   "codemirror_mode": {
    "name": "ipython",
    "version": 3
   },
   "file_extension": ".py",
   "mimetype": "text/x-python",
   "name": "python",
   "nbconvert_exporter": "python",
   "pygments_lexer": "ipython3",
   "version": "3.7.1"
  }
 },
 "nbformat": 4,
 "nbformat_minor": 2
}
